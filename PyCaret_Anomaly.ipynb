{
  "nbformat": 4,
  "nbformat_minor": 0,
  "metadata": {
    "colab": {
      "name": "PyCaret Anomaly.ipynb",
      "provenance": []
    },
    "kernelspec": {
      "name": "python3",
      "display_name": "Python 3"
    },
    "language_info": {
      "name": "python"
    }
  },
  "cells": [
    {
      "cell_type": "code",
      "source": [
        "!pip install markupsafe==2.0.1 Jinja2"
      ],
      "metadata": {
        "id": "YvmfxkjEUz6K"
      },
      "execution_count": null,
      "outputs": []
    },
    {
      "cell_type": "code",
      "execution_count": null,
      "metadata": {
        "id": "VddAY_5kTb17"
      },
      "outputs": [],
      "source": [
        "!pip install pycaret"
      ]
    },
    {
      "cell_type": "code",
      "source": [
        "import pandas as pd\n",
        "df = pd.read_csv('creditcard.csv')\n",
        "df.head(1)"
      ],
      "metadata": {
        "id": "SGlcoYiMFYKW"
      },
      "execution_count": null,
      "outputs": []
    },
    {
      "cell_type": "code",
      "source": [
        "from pycaret.anomaly import setup, create_model, assign_model, evaluate_model, predict_model, save_model, load_model"
      ],
      "metadata": {
        "id": "OlrjYNP-F8a8"
      },
      "execution_count": null,
      "outputs": []
    },
    {
      "cell_type": "code",
      "source": [
        "s = setup(df)"
      ],
      "metadata": {
        "id": "S2yTvdiwGf0R"
      },
      "execution_count": null,
      "outputs": []
    },
    {
      "cell_type": "code",
      "source": [
        "best_model = create_model('knn')"
      ],
      "metadata": {
        "id": "jSiJQhMnGh7z"
      },
      "execution_count": null,
      "outputs": []
    },
    {
      "cell_type": "code",
      "source": [
        "assign_model(best_model)"
      ],
      "metadata": {
        "id": "fUBpxKr6AeTJ"
      },
      "execution_count": null,
      "outputs": []
    },
    {
      "cell_type": "code",
      "source": [
        "evaluate_model(best_model)"
      ],
      "metadata": {
        "id": "SbbrWfC8Gm-L"
      },
      "execution_count": null,
      "outputs": []
    },
    {
      "cell_type": "code",
      "source": [
        "predict_model(best_model, data=df)"
      ],
      "metadata": {
        "id": "sVR7kCo-G3MC"
      },
      "execution_count": null,
      "outputs": []
    },
    {
      "cell_type": "code",
      "source": [
        "save_model(best_model, 'knn')"
      ],
      "metadata": {
        "id": "r0QR3bURHCAh"
      },
      "execution_count": null,
      "outputs": []
    },
    {
      "cell_type": "code",
      "source": [
        "model = load_model('knn')"
      ],
      "metadata": {
        "id": "UgEsTEr9HHwK"
      },
      "execution_count": null,
      "outputs": []
    }
  ]
}